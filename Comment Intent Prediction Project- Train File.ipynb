{
 "cells": [
  {
   "cell_type": "code",
   "execution_count": 1,
   "id": "13d5a94a",
   "metadata": {},
   "outputs": [],
   "source": [
    "import pandas as pd\n",
    "import numpy as np"
   ]
  },
  {
   "cell_type": "code",
   "execution_count": 2,
   "id": "8499ec40",
   "metadata": {},
   "outputs": [],
   "source": [
    "import warnings\n",
    "warnings.filterwarnings('ignore')\n",
    "pd. set_option(\"display.max_columns\", 35)"
   ]
  },
  {
   "cell_type": "code",
   "execution_count": 3,
   "id": "0e1eeefd",
   "metadata": {},
   "outputs": [
    {
     "data": {
      "text/html": [
       "<div>\n",
       "<style scoped>\n",
       "    .dataframe tbody tr th:only-of-type {\n",
       "        vertical-align: middle;\n",
       "    }\n",
       "\n",
       "    .dataframe tbody tr th {\n",
       "        vertical-align: top;\n",
       "    }\n",
       "\n",
       "    .dataframe thead th {\n",
       "        text-align: right;\n",
       "    }\n",
       "</style>\n",
       "<table border=\"1\" class=\"dataframe\">\n",
       "  <thead>\n",
       "    <tr style=\"text-align: right;\">\n",
       "      <th></th>\n",
       "      <th>_id</th>\n",
       "      <th>Id</th>\n",
       "      <th>GroupId</th>\n",
       "      <th>GroupName</th>\n",
       "      <th>PostId</th>\n",
       "      <th>PostType</th>\n",
       "      <th>UserProfileId</th>\n",
       "      <th>ProfileName</th>\n",
       "      <th>ProfileImage</th>\n",
       "      <th>ProfileImageOriginal</th>\n",
       "      <th>Message</th>\n",
       "      <th>FeedText</th>\n",
       "      <th>FeedDescription</th>\n",
       "      <th>FeedTitle</th>\n",
       "      <th>postImgUrl</th>\n",
       "      <th>postImgUrlOriginal</th>\n",
       "      <th>videoTitle</th>\n",
       "      <th>VideoSiteRedirectionUrl</th>\n",
       "      <th>VideoDescription</th>\n",
       "      <th>PostRedirectionImg</th>\n",
       "      <th>websiteUrl</th>\n",
       "      <th>NoOfLike</th>\n",
       "      <th>NoOfComment</th>\n",
       "      <th>NoOfShare</th>\n",
       "      <th>DateTimeOfPost</th>\n",
       "      <th>connectionStatus</th>\n",
       "      <th>postUrl</th>\n",
       "      <th>DestinationURL</th>\n",
       "      <th>savePostDateTimeUtc</th>\n",
       "      <th>mediaPostUrlUpdated</th>\n",
       "      <th>CommentDetails</th>\n",
       "      <th>HashTag</th>\n",
       "    </tr>\n",
       "  </thead>\n",
       "  <tbody>\n",
       "    <tr>\n",
       "      <th>0</th>\n",
       "      <td>{\"$oid\":\"5b1aa7ee8bb55b300895a775\"}</td>\n",
       "      <td>5b1aa7ee8bb55b300895a774</td>\n",
       "      <td>{\"$numberLong\":\"1124374080936565\"}</td>\n",
       "      <td>Empower Your Online Success</td>\n",
       "      <td>{\"$numberLong\":\"2171117736262189\"}</td>\n",
       "      <td>IMAGE</td>\n",
       "      <td>1348490940</td>\n",
       "      <td>Shawn Lemoine</td>\n",
       "      <td>https://api.socioleadspro.com/api/Media/getpro...</td>\n",
       "      <td>https://scontent-lhr3-1.xx.fbcdn.net/v/t1.0-1/...</td>\n",
       "      <td>Youre about to GET LUCKY! Rise and shine. HAP...</td>\n",
       "      <td>Youre about to GET LUCKY! Rise and shine. HAPP...</td>\n",
       "      <td>NaN</td>\n",
       "      <td>NaN</td>\n",
       "      <td>https://api.socioleadspro.com/api/Media/get?id...</td>\n",
       "      <td>https://scontent-lhr3-1.xx.fbcdn.net/v/t1.0-0/...</td>\n",
       "      <td>NaN</td>\n",
       "      <td>NaN</td>\n",
       "      <td>NaN</td>\n",
       "      <td>NaN</td>\n",
       "      <td>NaN</td>\n",
       "      <td>0</td>\n",
       "      <td>0</td>\n",
       "      <td>0</td>\n",
       "      <td>1528458840</td>\n",
       "      <td>False</td>\n",
       "      <td>https://www.facebook.com/groups/11243740809365...</td>\n",
       "      <td>NaN</td>\n",
       "      <td>1528473583</td>\n",
       "      <td>True</td>\n",
       "      <td>NaN</td>\n",
       "      <td>NaN</td>\n",
       "    </tr>\n",
       "    <tr>\n",
       "      <th>1</th>\n",
       "      <td>{\"$oid\":\"5b1aa7ee8bb55b300895a777\"}</td>\n",
       "      <td>5b1aa7ee8bb55b300895a776</td>\n",
       "      <td>{\"$numberLong\":\"1124374080936565\"}</td>\n",
       "      <td>Empower Your Online Success</td>\n",
       "      <td>{\"$numberLong\":\"2170670772973552\"}</td>\n",
       "      <td>IMAGE</td>\n",
       "      <td>1348490940</td>\n",
       "      <td>Shawn Lemoine</td>\n",
       "      <td>https://api.socioleadspro.com/api/Media/getpro...</td>\n",
       "      <td>https://scontent-lhr3-1.xx.fbcdn.net/v/t1.0-1/...</td>\n",
       "      <td>Rest up, tomorrows a BIG DAY.\\r\\n You&amp;#039;re...</td>\n",
       "      <td>Rest up, tomorrows a BIG DAY.\\r\\n You&amp;#039;re ...</td>\n",
       "      <td>NaN</td>\n",
       "      <td>NaN</td>\n",
       "      <td>https://api.socioleadspro.com/api/Media/get?id...</td>\n",
       "      <td>https://scontent-lhr3-1.xx.fbcdn.net/v/t1.0-9/...</td>\n",
       "      <td>NaN</td>\n",
       "      <td>NaN</td>\n",
       "      <td>NaN</td>\n",
       "      <td>NaN</td>\n",
       "      <td>NaN</td>\n",
       "      <td>0</td>\n",
       "      <td>0</td>\n",
       "      <td>0</td>\n",
       "      <td>1528428573</td>\n",
       "      <td>False</td>\n",
       "      <td>https://www.facebook.com/groups/11243740809365...</td>\n",
       "      <td>NaN</td>\n",
       "      <td>1528473583</td>\n",
       "      <td>True</td>\n",
       "      <td>NaN</td>\n",
       "      <td>NaN</td>\n",
       "    </tr>\n",
       "    <tr>\n",
       "      <th>2</th>\n",
       "      <td>{\"$oid\":\"5b1aa7ee8bb55b300895a779\"}</td>\n",
       "      <td>5b1aa7ee8bb55b300895a778</td>\n",
       "      <td>{\"$numberLong\":\"1124374080936565\"}</td>\n",
       "      <td>Empower Your Online Success</td>\n",
       "      <td>{\"$numberLong\":\"2170408029666493\"}</td>\n",
       "      <td>IMAGE</td>\n",
       "      <td>1348490940</td>\n",
       "      <td>Shawn Lemoine</td>\n",
       "      <td>https://api.socioleadspro.com/api/Media/getpro...</td>\n",
       "      <td>https://scontent-lhr3-1.xx.fbcdn.net/v/t1.0-1/...</td>\n",
       "      <td>Start PRESSING with FORWARD moving people!\\r\\...</td>\n",
       "      <td>Start PRESSING with FORWARD moving people!\\r\\n...</td>\n",
       "      <td>NaN</td>\n",
       "      <td>NaN</td>\n",
       "      <td>https://api.socioleadspro.com/api/Media/get?id...</td>\n",
       "      <td>https://scontent-lhr3-1.xx.fbcdn.net/v/t1.0-0/...</td>\n",
       "      <td>NaN</td>\n",
       "      <td>NaN</td>\n",
       "      <td>NaN</td>\n",
       "      <td>NaN</td>\n",
       "      <td>NaN</td>\n",
       "      <td>0</td>\n",
       "      <td>0</td>\n",
       "      <td>0</td>\n",
       "      <td>1528412555</td>\n",
       "      <td>False</td>\n",
       "      <td>https://www.facebook.com/groups/11243740809365...</td>\n",
       "      <td>NaN</td>\n",
       "      <td>1528473583</td>\n",
       "      <td>True</td>\n",
       "      <td>NaN</td>\n",
       "      <td>NaN</td>\n",
       "    </tr>\n",
       "    <tr>\n",
       "      <th>3</th>\n",
       "      <td>{\"$oid\":\"5b1aa7ee8bb55b300895a77b\"}</td>\n",
       "      <td>5b1aa7ee8bb55b300895a77a</td>\n",
       "      <td>{\"$numberLong\":\"1124374080936565\"}</td>\n",
       "      <td>Empower Your Online Success</td>\n",
       "      <td>{\"$numberLong\":\"2169907019716594\"}</td>\n",
       "      <td>IMAGE</td>\n",
       "      <td>100000659454027</td>\n",
       "      <td>Gian Fortuin</td>\n",
       "      <td>https://api.socioleadspro.com/api/Media/getpro...</td>\n",
       "      <td>https://scontent-lhr3-1.xx.fbcdn.net/v/t1.0-1/...</td>\n",
       "      <td>Everyone can do it as the work required to ea...</td>\n",
       "      <td>Everyone can do it as the work required to ear...</td>\n",
       "      <td>NaN</td>\n",
       "      <td>NaN</td>\n",
       "      <td>https://api.socioleadspro.com/api/Media/get?id...</td>\n",
       "      <td>https://scontent-lhr3-1.xx.fbcdn.net/v/t1.0-9/...</td>\n",
       "      <td>NaN</td>\n",
       "      <td>NaN</td>\n",
       "      <td>NaN</td>\n",
       "      <td>NaN</td>\n",
       "      <td>NaN</td>\n",
       "      <td>0</td>\n",
       "      <td>4</td>\n",
       "      <td>0</td>\n",
       "      <td>1528381983</td>\n",
       "      <td>False</td>\n",
       "      <td>https://www.facebook.com/groups/11243740809365...</td>\n",
       "      <td>NaN</td>\n",
       "      <td>1528473583</td>\n",
       "      <td>True</td>\n",
       "      <td>NaN</td>\n",
       "      <td>NaN</td>\n",
       "    </tr>\n",
       "    <tr>\n",
       "      <th>4</th>\n",
       "      <td>{\"$oid\":\"5b1aa7ee8bb55b300895a77d\"}</td>\n",
       "      <td>5b1aa7ee8bb55b300895a77c</td>\n",
       "      <td>{\"$numberLong\":\"1124374080936565\"}</td>\n",
       "      <td>Empower Your Online Success</td>\n",
       "      <td>{\"$numberLong\":\"2169711059736190\"}</td>\n",
       "      <td>IMAGE</td>\n",
       "      <td>1348490940</td>\n",
       "      <td>Shawn Lemoine</td>\n",
       "      <td>https://api.socioleadspro.com/api/Media/getpro...</td>\n",
       "      <td>https://scontent-lhr3-1.xx.fbcdn.net/v/t1.0-1/...</td>\n",
       "      <td>You have a habit of waking up every morning t...</td>\n",
       "      <td>You have a habit of waking up every morning to...</td>\n",
       "      <td>NaN</td>\n",
       "      <td>NaN</td>\n",
       "      <td>https://api.socioleadspro.com/api/Media/get?id...</td>\n",
       "      <td>https://scontent-lhr3-1.xx.fbcdn.net/v/t1.0-0/...</td>\n",
       "      <td>NaN</td>\n",
       "      <td>NaN</td>\n",
       "      <td>NaN</td>\n",
       "      <td>NaN</td>\n",
       "      <td>NaN</td>\n",
       "      <td>0</td>\n",
       "      <td>0</td>\n",
       "      <td>0</td>\n",
       "      <td>1528371412</td>\n",
       "      <td>False</td>\n",
       "      <td>https://www.facebook.com/groups/11243740809365...</td>\n",
       "      <td>NaN</td>\n",
       "      <td>1528473583</td>\n",
       "      <td>True</td>\n",
       "      <td>NaN</td>\n",
       "      <td>NaN</td>\n",
       "    </tr>\n",
       "  </tbody>\n",
       "</table>\n",
       "</div>"
      ],
      "text/plain": [
       "                                   _id                        Id  \\\n",
       "0  {\"$oid\":\"5b1aa7ee8bb55b300895a775\"}  5b1aa7ee8bb55b300895a774   \n",
       "1  {\"$oid\":\"5b1aa7ee8bb55b300895a777\"}  5b1aa7ee8bb55b300895a776   \n",
       "2  {\"$oid\":\"5b1aa7ee8bb55b300895a779\"}  5b1aa7ee8bb55b300895a778   \n",
       "3  {\"$oid\":\"5b1aa7ee8bb55b300895a77b\"}  5b1aa7ee8bb55b300895a77a   \n",
       "4  {\"$oid\":\"5b1aa7ee8bb55b300895a77d\"}  5b1aa7ee8bb55b300895a77c   \n",
       "\n",
       "                              GroupId                    GroupName  \\\n",
       "0  {\"$numberLong\":\"1124374080936565\"}  Empower Your Online Success   \n",
       "1  {\"$numberLong\":\"1124374080936565\"}  Empower Your Online Success   \n",
       "2  {\"$numberLong\":\"1124374080936565\"}  Empower Your Online Success   \n",
       "3  {\"$numberLong\":\"1124374080936565\"}  Empower Your Online Success   \n",
       "4  {\"$numberLong\":\"1124374080936565\"}  Empower Your Online Success   \n",
       "\n",
       "                               PostId PostType    UserProfileId  \\\n",
       "0  {\"$numberLong\":\"2171117736262189\"}    IMAGE       1348490940   \n",
       "1  {\"$numberLong\":\"2170670772973552\"}    IMAGE       1348490940   \n",
       "2  {\"$numberLong\":\"2170408029666493\"}    IMAGE       1348490940   \n",
       "3  {\"$numberLong\":\"2169907019716594\"}    IMAGE  100000659454027   \n",
       "4  {\"$numberLong\":\"2169711059736190\"}    IMAGE       1348490940   \n",
       "\n",
       "     ProfileName                                       ProfileImage  \\\n",
       "0  Shawn Lemoine  https://api.socioleadspro.com/api/Media/getpro...   \n",
       "1  Shawn Lemoine  https://api.socioleadspro.com/api/Media/getpro...   \n",
       "2  Shawn Lemoine  https://api.socioleadspro.com/api/Media/getpro...   \n",
       "3   Gian Fortuin  https://api.socioleadspro.com/api/Media/getpro...   \n",
       "4  Shawn Lemoine  https://api.socioleadspro.com/api/Media/getpro...   \n",
       "\n",
       "                                ProfileImageOriginal  \\\n",
       "0  https://scontent-lhr3-1.xx.fbcdn.net/v/t1.0-1/...   \n",
       "1  https://scontent-lhr3-1.xx.fbcdn.net/v/t1.0-1/...   \n",
       "2  https://scontent-lhr3-1.xx.fbcdn.net/v/t1.0-1/...   \n",
       "3  https://scontent-lhr3-1.xx.fbcdn.net/v/t1.0-1/...   \n",
       "4  https://scontent-lhr3-1.xx.fbcdn.net/v/t1.0-1/...   \n",
       "\n",
       "                                             Message  \\\n",
       "0   Youre about to GET LUCKY! Rise and shine. HAP...   \n",
       "1   Rest up, tomorrows a BIG DAY.\\r\\n You&#039;re...   \n",
       "2   Start PRESSING with FORWARD moving people!\\r\\...   \n",
       "3   Everyone can do it as the work required to ea...   \n",
       "4   You have a habit of waking up every morning t...   \n",
       "\n",
       "                                            FeedText FeedDescription  \\\n",
       "0  Youre about to GET LUCKY! Rise and shine. HAPP...             NaN   \n",
       "1  Rest up, tomorrows a BIG DAY.\\r\\n You&#039;re ...             NaN   \n",
       "2  Start PRESSING with FORWARD moving people!\\r\\n...             NaN   \n",
       "3  Everyone can do it as the work required to ear...             NaN   \n",
       "4  You have a habit of waking up every morning to...             NaN   \n",
       "\n",
       "  FeedTitle                                         postImgUrl  \\\n",
       "0       NaN  https://api.socioleadspro.com/api/Media/get?id...   \n",
       "1       NaN  https://api.socioleadspro.com/api/Media/get?id...   \n",
       "2       NaN  https://api.socioleadspro.com/api/Media/get?id...   \n",
       "3       NaN  https://api.socioleadspro.com/api/Media/get?id...   \n",
       "4       NaN  https://api.socioleadspro.com/api/Media/get?id...   \n",
       "\n",
       "                                  postImgUrlOriginal  videoTitle  \\\n",
       "0  https://scontent-lhr3-1.xx.fbcdn.net/v/t1.0-0/...         NaN   \n",
       "1  https://scontent-lhr3-1.xx.fbcdn.net/v/t1.0-9/...         NaN   \n",
       "2  https://scontent-lhr3-1.xx.fbcdn.net/v/t1.0-0/...         NaN   \n",
       "3  https://scontent-lhr3-1.xx.fbcdn.net/v/t1.0-9/...         NaN   \n",
       "4  https://scontent-lhr3-1.xx.fbcdn.net/v/t1.0-0/...         NaN   \n",
       "\n",
       "   VideoSiteRedirectionUrl  VideoDescription  PostRedirectionImg  websiteUrl  \\\n",
       "0                      NaN               NaN                 NaN         NaN   \n",
       "1                      NaN               NaN                 NaN         NaN   \n",
       "2                      NaN               NaN                 NaN         NaN   \n",
       "3                      NaN               NaN                 NaN         NaN   \n",
       "4                      NaN               NaN                 NaN         NaN   \n",
       "\n",
       "   NoOfLike  NoOfComment  NoOfShare  DateTimeOfPost  connectionStatus  \\\n",
       "0         0            0          0      1528458840             False   \n",
       "1         0            0          0      1528428573             False   \n",
       "2         0            0          0      1528412555             False   \n",
       "3         0            4          0      1528381983             False   \n",
       "4         0            0          0      1528371412             False   \n",
       "\n",
       "                                             postUrl DestinationURL  \\\n",
       "0  https://www.facebook.com/groups/11243740809365...            NaN   \n",
       "1  https://www.facebook.com/groups/11243740809365...            NaN   \n",
       "2  https://www.facebook.com/groups/11243740809365...            NaN   \n",
       "3  https://www.facebook.com/groups/11243740809365...            NaN   \n",
       "4  https://www.facebook.com/groups/11243740809365...            NaN   \n",
       "\n",
       "   savePostDateTimeUtc  mediaPostUrlUpdated  CommentDetails  HashTag  \n",
       "0           1528473583                 True             NaN      NaN  \n",
       "1           1528473583                 True             NaN      NaN  \n",
       "2           1528473583                 True             NaN      NaN  \n",
       "3           1528473583                 True             NaN      NaN  \n",
       "4           1528473583                 True             NaN      NaN  "
      ]
     },
     "execution_count": 3,
     "metadata": {},
     "output_type": "execute_result"
    }
   ],
   "source": [
    "df=pd.read_csv('out.csv',encoding = \"ISO-8859-1\")\n",
    "df.head()"
   ]
  },
  {
   "cell_type": "code",
   "execution_count": 4,
   "id": "307e7aac",
   "metadata": {},
   "outputs": [
    {
     "name": "stdout",
     "output_type": "stream",
     "text": [
      "Shape Of The Dataset :- (201886, 32)\n",
      "\n",
      " Number Of Null Values In Every Column \n",
      " _id                             0\n",
      "Id                              0\n",
      "GroupId                         0\n",
      "GroupName                      30\n",
      "PostId                          0\n",
      "PostType                        0\n",
      "UserProfileId                   0\n",
      "ProfileName                   184\n",
      "ProfileImage                    0\n",
      "ProfileImageOriginal            0\n",
      "Message                         0\n",
      "FeedText                    34974\n",
      "FeedDescription            117505\n",
      "FeedTitle                  152328\n",
      "postImgUrl                  60040\n",
      "postImgUrlOriginal          60040\n",
      "videoTitle                 201886\n",
      "VideoSiteRedirectionUrl    201886\n",
      "VideoDescription           201886\n",
      "PostRedirectionImg         201886\n",
      "websiteUrl                 201886\n",
      "NoOfLike                        0\n",
      "NoOfComment                     0\n",
      "NoOfShare                       0\n",
      "DateTimeOfPost                  0\n",
      "connectionStatus                0\n",
      "postUrl                         0\n",
      "DestinationURL             166070\n",
      "savePostDateTimeUtc             0\n",
      "mediaPostUrlUpdated             0\n",
      "CommentDetails             201886\n",
      "HashTag                    201886\n",
      "dtype: int64\n",
      "\n",
      " Number Of Duplicate Values :- 0\n",
      "Dataset Info \n",
      " \n",
      "<class 'pandas.core.frame.DataFrame'>\n",
      "RangeIndex: 201886 entries, 0 to 201885\n",
      "Data columns (total 32 columns):\n",
      " #   Column                   Non-Null Count   Dtype  \n",
      "---  ------                   --------------   -----  \n",
      " 0   _id                      201886 non-null  object \n",
      " 1   Id                       201886 non-null  object \n",
      " 2   GroupId                  201886 non-null  object \n",
      " 3   GroupName                201856 non-null  object \n",
      " 4   PostId                   201886 non-null  object \n",
      " 5   PostType                 201886 non-null  object \n",
      " 6   UserProfileId            201886 non-null  object \n",
      " 7   ProfileName              201702 non-null  object \n",
      " 8   ProfileImage             201886 non-null  object \n",
      " 9   ProfileImageOriginal     201886 non-null  object \n",
      " 10  Message                  201886 non-null  object \n",
      " 11  FeedText                 166912 non-null  object \n",
      " 12  FeedDescription          84381 non-null   object \n",
      " 13  FeedTitle                49558 non-null   object \n",
      " 14  postImgUrl               141846 non-null  object \n",
      " 15  postImgUrlOriginal       141846 non-null  object \n",
      " 16  videoTitle               0 non-null       float64\n",
      " 17  VideoSiteRedirectionUrl  0 non-null       float64\n",
      " 18  VideoDescription         0 non-null       float64\n",
      " 19  PostRedirectionImg       0 non-null       float64\n",
      " 20  websiteUrl               0 non-null       float64\n",
      " 21  NoOfLike                 201886 non-null  int64  \n",
      " 22  NoOfComment              201886 non-null  int64  \n",
      " 23  NoOfShare                201886 non-null  int64  \n",
      " 24  DateTimeOfPost           201886 non-null  int64  \n",
      " 25  connectionStatus         201886 non-null  bool   \n",
      " 26  postUrl                  201886 non-null  object \n",
      " 27  DestinationURL           35816 non-null   object \n",
      " 28  savePostDateTimeUtc      201886 non-null  int64  \n",
      " 29  mediaPostUrlUpdated      201886 non-null  bool   \n",
      " 30  CommentDetails           0 non-null       float64\n",
      " 31  HashTag                  0 non-null       float64\n",
      "dtypes: bool(2), float64(7), int64(5), object(18)\n",
      "memory usage: 46.6+ MB\n"
     ]
    }
   ],
   "source": [
    "## dataset shape \n",
    "print(f\"{'shape of the dataset'.title()} :- {df.shape}\")\n",
    "\n",
    "## missing values\n",
    "print(f\"\\n {'Number of null values in every column'.title()} \\n {df.isnull().sum()}\")\n",
    "\n",
    "## duplicate values\n",
    "print(f\"\\n {'number of duplicate values'.title()} :- {len(df.loc[df.duplicated()])}\")\n",
    "\n",
    "## information about dataset\n",
    "print(f\"{'dataset info'.title()} \\n \")\n",
    "df.info()"
   ]
  },
  {
   "cell_type": "code",
   "execution_count": 5,
   "id": "78ae6c4a",
   "metadata": {},
   "outputs": [
    {
     "name": "stdout",
     "output_type": "stream",
     "text": [
      "GroupName:['Empower Your Online Success' 'Internet Marketing friends'\n",
      " 'Massive Marketing Success' ... 'Tollywood Movies'\n",
      " 'Podcasting Made Simple' 'The Infinity Group']\n",
      "Affiliate Marketing - Worldwide                                      21689\n",
      "Digital Marketing (SEO-SMO-SEM)                                      21014\n",
      "OUG                                                                   7821\n",
      "Best Deals &#064; Hyderabad                                           4760\n",
      "Humans of Digital Marketing &#x2611;&#xfe0f;                          3130\n",
      "                                                                     ...  \n",
      "AaKhiL BhaRtiYa SaiN SaMaJ SanGataN DisTricT.- KaRauLi RaJ. IndiA        1\n",
      "Behance WORLD                                                            1\n",
      "Ak Photography                                                           1\n",
      "ï¤ Yala live ï¤ Ø§ÙØ¹Ø¨ ÙÙØ§Ø§Ø§Ø§Ø§                                1\n",
      "Desi boys                                                                1\n",
      "Name: GroupName, Length: 1896, dtype: int64\n",
      "************************************************************************************************************\n",
      "\n",
      "\n",
      "PostType:['IMAGE' 'TEXT' 'VIDEO']\n",
      "IMAGE    132804\n",
      "TEXT      59963\n",
      "VIDEO      9119\n",
      "Name: PostType, dtype: int64\n",
      "************************************************************************************************************\n",
      "\n",
      "\n",
      "ProfileName:['Shawn Lemoine' 'Gian Fortuin' 'Dollar Earners' ... 'Gerilyn Davis'\n",
      " 'Oun Sida' 'Yoyozhu']\n",
      "Arbu Usmani                  431\n",
      "Jaswant Thakur               379\n",
      "Rob Gehring                  328\n",
      "Amal Babu                    317\n",
      "Nikhil Asha Jain             300\n",
      "                            ... \n",
      "Sayak Dhar                     1\n",
      "Smart Oyejide                  1\n",
      "Sorrell Boo Cee Cee            1\n",
      "Carolina GÃ³mez GonzÃ¡lez      1\n",
      "Santos Yadav Yadav             1\n",
      "Name: ProfileName, Length: 87420, dtype: int64\n",
      "************************************************************************************************************\n",
      "\n",
      "\n",
      "connectionStatus:[False]\n",
      "False    201886\n",
      "Name: connectionStatus, dtype: int64\n",
      "************************************************************************************************************\n",
      "\n",
      "\n",
      "mediaPostUrlUpdated:[ True False]\n",
      "True     183898\n",
      "False     17988\n",
      "Name: mediaPostUrlUpdated, dtype: int64\n",
      "************************************************************************************************************\n",
      "\n",
      "\n"
     ]
    }
   ],
   "source": [
    "#unique values and their count in multiple object type columns \n",
    "for column in df[['GroupName','PostType','ProfileName','connectionStatus','mediaPostUrlUpdated']]:\n",
    "    print(str(column)+':'+str(df[column].unique()))\n",
    "    print(df[column].value_counts())\n",
    "    print('************************************************************************************************************')\n",
    "    print('\\n')"
   ]
  },
  {
   "cell_type": "code",
   "execution_count": 6,
   "id": "0bbf99c6",
   "metadata": {},
   "outputs": [],
   "source": [
    "df_2=df[['GroupName','PostType','ProfileName','Message']]"
   ]
  },
  {
   "cell_type": "code",
   "execution_count": 7,
   "id": "a1ae62f6",
   "metadata": {},
   "outputs": [
    {
     "data": {
      "text/plain": [
       "(201886, 4)"
      ]
     },
     "execution_count": 7,
     "metadata": {},
     "output_type": "execute_result"
    }
   ],
   "source": [
    "df_2.shape"
   ]
  },
  {
   "cell_type": "code",
   "execution_count": 8,
   "id": "13d09a43",
   "metadata": {},
   "outputs": [],
   "source": [
    "from sklearn.preprocessing import LabelEncoder\n",
    "le=LabelEncoder()\n",
    "for col in df_2[['GroupName','PostType']]:\n",
    "    df_2[col]=le.fit_transform(df_2[col])"
   ]
  },
  {
   "cell_type": "code",
   "execution_count": 9,
   "id": "945dd30e",
   "metadata": {},
   "outputs": [],
   "source": [
    "import re\n",
    "import string\n",
    "from nltk.corpus import stopwords\n",
    "from nltk.tokenize import word_tokenize\n",
    "from nltk.stem import WordNetLemmatizer\n",
    "lemma=WordNetLemmatizer()"
   ]
  },
  {
   "cell_type": "code",
   "execution_count": 10,
   "id": "26448aea",
   "metadata": {},
   "outputs": [],
   "source": [
    "stop_words = set(stopwords.words('english'))\n",
    "for x in range(ord('b'), ord('z')+1):\n",
    "    stop_words.add(chr(x))"
   ]
  },
  {
   "cell_type": "code",
   "execution_count": 11,
   "id": "214a3968",
   "metadata": {},
   "outputs": [],
   "source": [
    "#Preprocessing of Text data\n",
    "def cleaning_data(row):\n",
    "    row=row.lower()\n",
    "    row=re.sub('[^a-zA-Z]',' ',row)\n",
    "    tokens = word_tokenize(row)\n",
    "    message = [lemma.lemmatize(word,pos=\"v\") for word in tokens if not word in stop_words]\n",
    "    cleaned_message=' '.join(message)\n",
    "    \n",
    "    return cleaned_message"
   ]
  },
  {
   "cell_type": "code",
   "execution_count": 12,
   "id": "8c4211ea",
   "metadata": {},
   "outputs": [],
   "source": [
    "df_2.Message=df_2.Message.apply(cleaning_data)"
   ]
  },
  {
   "cell_type": "code",
   "execution_count": 13,
   "id": "b5c0db15",
   "metadata": {},
   "outputs": [],
   "source": [
    "df_2= df_2.sample(frac = 1)"
   ]
  },
  {
   "cell_type": "code",
   "execution_count": 14,
   "id": "cf2424d8",
   "metadata": {},
   "outputs": [],
   "source": [
    "df_train = df_2.iloc[:100000,:]\n",
    "df_test = df_2.iloc[100001:,:]"
   ]
  },
  {
   "cell_type": "code",
   "execution_count": null,
   "id": "11a2d7dc",
   "metadata": {},
   "outputs": [],
   "source": [
    "#df_test.to_csv('df_testi.csv')"
   ]
  },
  {
   "cell_type": "code",
   "execution_count": 15,
   "id": "4f4a45d8",
   "metadata": {},
   "outputs": [],
   "source": [
    "from sklearn.feature_extraction.text import TfidfVectorizer\n",
    "from sklearn.cluster import KMeans"
   ]
  },
  {
   "cell_type": "code",
   "execution_count": 16,
   "id": "19dba17d",
   "metadata": {},
   "outputs": [],
   "source": [
    "vectorizer = TfidfVectorizer(stop_words='english')\n",
    "Y = vectorizer.fit_transform(df_train['Message'])"
   ]
  },
  {
   "cell_type": "code",
   "execution_count": 17,
   "id": "8942a49a",
   "metadata": {},
   "outputs": [],
   "source": [
    "import matplotlib.pyplot as plt\n",
    "vectorizer2 = TfidfVectorizer(stop_words = stop_words, max_features = 1000)\n",
    "X2 = vectorizer2.fit_transform(df_train['Message'])\n",
    "words = vectorizer2.get_feature_names()"
   ]
  },
  {
   "cell_type": "code",
   "execution_count": 18,
   "id": "fb30ec16",
   "metadata": {},
   "outputs": [
    {
     "data": {
      "image/png": "[encoded data removed]",
      "text/plain": [
       "<Figure size 432x288 with 1 Axes>"
      ]
     },
     "metadata": {
      "needs_background": "light"
     },
     "output_type": "display_data"
    }
   ],
   "source": [
    "wcss = []\n",
    "for i in range(1,6):\n",
    "    kmeans = KMeans(n_clusters=i,init='k-means++',max_iter=100,n_init=10,random_state=0)\n",
    "    kmeans.fit(X2)\n",
    "    wcss.append(kmeans.inertia_)\n",
    "plt.plot(range(1,6),wcss)\n",
    "plt.title('The Elbow Method')\n",
    "plt.xlabel('Number of clusters')\n",
    "plt.ylabel('WCSS')\n",
    "plt.savefig('elbow.png')\n",
    "plt.show()"
   ]
  },
  {
   "cell_type": "code",
   "execution_count": 24,
   "id": "6ccef53d",
   "metadata": {},
   "outputs": [
    {
     "name": "stdout",
     "output_type": "stream",
     "text": [
      "[0 1 0 ... 0 0 0]\n"
     ]
    }
   ],
   "source": [
    "model = KMeans(n_clusters=4, init='k-means++', max_iter=100, n_init=1)\n",
    "kmeans=model.fit_predict(Y)\n",
    "print(kmeans)"
   ]
  },
  {
   "cell_type": "code",
   "execution_count": 25,
   "id": "ca0fa110",
   "metadata": {},
   "outputs": [],
   "source": [
    "labels = model.labels_\n",
    "cluster_center=model.cluster_centers_"
   ]
  },
  {
   "cell_type": "code",
   "execution_count": 26,
   "id": "6bdb6748",
   "metadata": {},
   "outputs": [
    {
     "data": {
      "text/plain": [
       "array([[2.04976924e-04, 3.98673569e-05, 1.80531712e-06, ...,\n",
       "        0.00000000e+00, 6.23767464e-06, 3.48648711e-06],\n",
       "       [3.14844073e-04, 9.58317316e-06, 0.00000000e+00, ...,\n",
       "        1.78830025e-05, 0.00000000e+00, 0.00000000e+00],\n",
       "       [2.05750274e-04, 0.00000000e+00, 0.00000000e+00, ...,\n",
       "        0.00000000e+00, 0.00000000e+00, 0.00000000e+00],\n",
       "       [0.00000000e+00, 0.00000000e+00, 0.00000000e+00, ...,\n",
       "        0.00000000e+00, 0.00000000e+00, 0.00000000e+00]])"
      ]
     },
     "execution_count": 26,
     "metadata": {},
     "output_type": "execute_result"
    }
   ],
   "source": [
    "cluster_center"
   ]
  },
  {
   "cell_type": "code",
   "execution_count": 27,
   "id": "78689329",
   "metadata": {},
   "outputs": [
    {
     "data": {
      "text/html": [
       "<div>\n",
       "<style scoped>\n",
       "    .dataframe tbody tr th:only-of-type {\n",
       "        vertical-align: middle;\n",
       "    }\n",
       "\n",
       "    .dataframe tbody tr th {\n",
       "        vertical-align: top;\n",
       "    }\n",
       "\n",
       "    .dataframe thead th {\n",
       "        text-align: right;\n",
       "    }\n",
       "</style>\n",
       "<table border=\"1\" class=\"dataframe\">\n",
       "  <thead>\n",
       "    <tr style=\"text-align: right;\">\n",
       "      <th></th>\n",
       "      <th>GroupName</th>\n",
       "      <th>PostType</th>\n",
       "      <th>ProfileName</th>\n",
       "      <th>Message</th>\n",
       "      <th>Label</th>\n",
       "    </tr>\n",
       "  </thead>\n",
       "  <tbody>\n",
       "    <tr>\n",
       "      <th>134067</th>\n",
       "      <td>1401</td>\n",
       "      <td>0</td>\n",
       "      <td>Nithin K</td>\n",
       "      <td>along accessories bill box available scratch dent</td>\n",
       "      <td>0</td>\n",
       "    </tr>\n",
       "    <tr>\n",
       "      <th>70733</th>\n",
       "      <td>523</td>\n",
       "      <td>0</td>\n",
       "      <td>Ramzi Almesleh</td>\n",
       "      <td>http tawzeefwata lem blogspot com blog post ht...</td>\n",
       "      <td>1</td>\n",
       "    </tr>\n",
       "    <tr>\n",
       "      <th>81557</th>\n",
       "      <td>1415</td>\n",
       "      <td>0</td>\n",
       "      <td>Duniya Stuff</td>\n",
       "      <td>today top online deal rii mini keyboard wirele...</td>\n",
       "      <td>0</td>\n",
       "    </tr>\n",
       "    <tr>\n",
       "      <th>32378</th>\n",
       "      <td>648</td>\n",
       "      <td>0</td>\n",
       "      <td>Sameer Revankar</td>\n",
       "      <td>urgent immediate maleflatmate roommate norestr...</td>\n",
       "      <td>0</td>\n",
       "    </tr>\n",
       "    <tr>\n",
       "      <th>66705</th>\n",
       "      <td>523</td>\n",
       "      <td>0</td>\n",
       "      <td>Amrit Amee</td>\n",
       "      <td>pack require</td>\n",
       "      <td>0</td>\n",
       "    </tr>\n",
       "  </tbody>\n",
       "</table>\n",
       "</div>"
      ],
      "text/plain": [
       "        GroupName  PostType      ProfileName  \\\n",
       "134067       1401         0         Nithin K   \n",
       "70733         523         0   Ramzi Almesleh   \n",
       "81557        1415         0     Duniya Stuff   \n",
       "32378         648         0  Sameer Revankar   \n",
       "66705         523         0       Amrit Amee   \n",
       "\n",
       "                                                  Message  Label  \n",
       "134067  along accessories bill box available scratch dent      0  \n",
       "70733   http tawzeefwata lem blogspot com blog post ht...      1  \n",
       "81557   today top online deal rii mini keyboard wirele...      0  \n",
       "32378   urgent immediate maleflatmate roommate norestr...      0  \n",
       "66705                                        pack require      0  "
      ]
     },
     "execution_count": 27,
     "metadata": {},
     "output_type": "execute_result"
    }
   ],
   "source": [
    "df_train['Label'] = model.labels_\n",
    "df_train.head()"
   ]
  },
  {
   "cell_type": "code",
   "execution_count": 28,
   "id": "b6751a3d",
   "metadata": {},
   "outputs": [
    {
     "data": {
      "text/plain": [
       "0    75930\n",
       "1    13978\n",
       "2     9070\n",
       "3     1022\n",
       "Name: Label, dtype: int64"
      ]
     },
     "execution_count": 28,
     "metadata": {},
     "output_type": "execute_result"
    }
   ],
   "source": [
    "df_train['Label'].value_counts()"
   ]
  },
  {
   "cell_type": "code",
   "execution_count": 29,
   "id": "6e5d1617",
   "metadata": {},
   "outputs": [
    {
     "name": "stdout",
     "output_type": "stream",
     "text": [
      "Top terms per cluster:\n",
      "Cluster 0: good\n",
      " new\n",
      " look\n",
      " free\n",
      " need\n",
      " available\n",
      " contact\n",
      " use\n",
      " work\n",
      " like\n",
      " time\n",
      " whatsapp\n",
      " thank\n",
      " help\n",
      " price\n",
      " hi\n",
      " make\n",
      " know\n",
      " https\n",
      " want\n",
      "Cluster 1: com\n",
      " https\n",
      " www\n",
      " facebook\n",
      " market\n",
      " digital\n",
      " business\n",
      " seo\n",
      " website\n",
      " group\n",
      " http\n",
      " id\n",
      " free\n",
      " post\n",
      " whatsapp\n",
      " link\n",
      " page\n",
      " amp\n",
      " story\n",
      " join\n",
      "Cluster 2: earn\n",
      " make\n",
      " money\n",
      " comment\n",
      " trade\n",
      " free\n",
      " info\n",
      " pay\n",
      " bitcoin\n",
      " work\n",
      " want\n",
      " start\n",
      " investment\n",
      " invest\n",
      " account\n",
      " daily\n",
      " weekly\n",
      " home\n",
      " profit\n",
      " people\n",
      "Cluster 3: attachment\n",
      " share\n",
      " unavailable\n",
      " permission\n",
      " remove\n",
      " person\n",
      " facebook\n",
      " https\n",
      " com\n",
      " php\n",
      " story\n",
      " www\n",
      " permalink\n",
      " post\n",
      " group\n",
      " jaldi\n",
      " like\n",
      " photo\n",
      " beech\n",
      " npk\n"
     ]
    }
   ],
   "source": [
    "print(\"Top terms per cluster:\")\n",
    "order_centroids = model.cluster_centers_.argsort()[:, ::-1]\n",
    "terms = vectorizer.get_feature_names()\n",
    "for i in range(4):\n",
    "    print(\"Cluster %d:\" % i, end='')\n",
    "    for ind in order_centroids[i, :20]:\n",
    "        print(' %s' % terms[ind], end='')\n",
    "        print()"
   ]
  },
  {
   "cell_type": "code",
   "execution_count": 66,
   "id": "dbdec685",
   "metadata": {},
   "outputs": [
    {
     "name": "stdout",
     "output_type": "stream",
     "text": [
      "good afternoon mirissa srilanka\n",
      "______________________________________________________________________\n",
      "im send deeplinks get people open app facebook messenger open deeplinks facebook browser unfortunately facebook browser apparently seem open deeplinks thoughts potential workaround\n",
      "______________________________________________________________________\n",
      "buy order\n",
      "______________________________________________________________________\n",
      "wall stickers go trend pccreativee diy ongoingtreand parmodandcompany get touch us fb page https www facebook com pccreativee email us pccreativee gmail com contact us whatsapp\n",
      "______________________________________________________________________\n",
      "try use lm comparator ic attach circuit diagram everytime get volt output even replace ic lm ic buy time replace lm output give high confuse circuit wrong handle lm wrong method lm ic fault please help\n"
     ]
    }
   ],
   "source": [
    "#considers sample of 4 random messages for cluster 1\n",
    "print(df_train.iloc[df_train.groupby(['Label']).groups[0][5]]['Message'])\n",
    "print(\"_\" * 70)\n",
    "print(df_train.iloc[df_train.groupby(['Label']).groups[0][10]]['Message'])\n",
    "print(\"_\" * 70)\n",
    "print(df_train.iloc[df_train.groupby(['Label']).groups[0][20]]['Message'])\n",
    "print(\"_\" * 70)\n",
    "print(df_train.iloc[df_train.groupby(['Label']).groups[0][30]]['Message'])\n",
    "print(\"_\" * 70)\n",
    "print(df_train.iloc[df_train.groupby(['Label']).groups[0][40]]['Message'])neutral"
   ]
  },
  {
   "cell_type": "code",
   "execution_count": 67,
   "id": "a3c0b020",
   "metadata": {},
   "outputs": [
    {
     "name": "stdout",
     "output_type": "stream",
     "text": [
      "call\n",
      "______________________________________________________________________\n",
      "page seo techniques use right check top page seo techniques use drive organic traffic website get maximum roi onlinemarketing digitalmarketing internetmarketing business seo searchengine page seo highly efficient method improve search position website search engine result page serp action perform way towards optimize site online footprint great way get quality backlinks social conversations online ident\n",
      "______________________________________________________________________\n",
      "cloud tree\n",
      "______________________________________________________________________\n",
      "easiest correct best way will invest learn field private message welcome\n",
      "______________________________________________________________________\n",
      "div span div div div class js kaa jt ju cpc ajaxify fee article context dialog share id amp entry type news fee learn amp trigger log id fd amp ft msg qid amf story key atop level post id atl objid acontent owner id new asrc astory location astory attachment style share href rel dialog post data ft quot tn quot quot quot role button data hover tooltip data tooltip content show information link data tooltip alignh right id class neural network learn paint next lessons go implement neural style transfer vgg simply put algorithm go infer artistic style image draw onto another image first lesson broad overview come series go look concepts deep learn neural network tensorflow lesson begin explore neural style transfe\n"
     ]
    }
   ],
   "source": [
    "#consider sample of 4 random messages for cluster 2\n",
    "print(df_train.iloc[df_train.groupby(['Label']).groups[1][8]]['Message'])\n",
    "print(\"_\" * 70)\n",
    "print(df_train.iloc[df_train.groupby(['Label']).groups[1][11]]['Message'])\n",
    "print(\"_\" * 70)\n",
    "print(df_train.iloc[df_train.groupby(['Label']).groups[1][25]]['Message'])\n",
    "print(\"_\" * 70)\n",
    "print(df_train.iloc[df_train.groupby(['Label']).groups[1][30]]['Message'])\n",
    "print(\"_\" * 70)\n",
    "print(df_train.iloc[df_train.groupby(['Label']).groups[1][35]]['Message'])buyer"
   ]
  },
  {
   "cell_type": "code",
   "execution_count": 68,
   "id": "10e7238f",
   "metadata": {},
   "outputs": [
    {
     "name": "stdout",
     "output_type": "stream",
     "text": [
      "usefulness calculus time daily activities\n",
      "______________________________________________________________________\n",
      "need yoast premium plugin latest version rs benifits use plugin unlimited sit expire date plugin use focus keywords know benifit yoast premium latest version plugin google guarantee virus need message personally see need yoast premium plugin latest version rs benifits use plugin unlimited sit expire date plugin use focus keywords know benifit yoast premium latest version plugin google guarantee virus need message personally see\n",
      "______________________________________________________________________\n",
      "leather sunroof backup camera dohc coupe rwd dohc city highway mpg lexus lc cvt lexus lc structural blue city highway mpg\n",
      "______________________________________________________________________\n",
      "gate community bhk semi furnish flat rent madhapur real main road swim pool gym badminton court play area security detail contact chandra shekhar\n",
      "______________________________________________________________________\n",
      "aola happen\n"
     ]
    }
   ],
   "source": [
    "#consider sample of 4 random messages for cluster 3\n",
    "print(df_train.iloc[df_train.groupby(['Label']).groups[2][7]]['Message'])\n",
    "print(\"_\" * 70)\n",
    "print(df_train.iloc[df_train.groupby(['Label']).groups[2][10]]['Message'])\n",
    "print(\"_\" * 70)\n",
    "print(df_train.iloc[df_train.groupby(['Label']).groups[2][20]]['Message'])\n",
    "print(\"_\" * 70)\n",
    "print(df_train.iloc[df_train.groupby(['Label']).groups[2][30]]['Message'])\n",
    "print(\"_\" * 70)\n",
    "print(df_train.iloc[df_train.groupby(['Label']).groups[2][40]]['Message'])seller"
   ]
  },
  {
   "cell_type": "code",
   "execution_count": 70,
   "id": "891c99fa",
   "metadata": {},
   "outputs": [
    {
     "name": "stdout",
     "output_type": "stream",
     "text": [
      "hello pushstarters satyen trivedi ceo sunnovis capital advisor pushq amp live next hour brief background currently board us base private equity invest top global unicorn businesses two decades experience strategy finance operations multiply valuation company years profitable business model answer question refine thoughts share wisdom build unicorn business let us begin hello pushstarters satyen trivedi ceo sunnovis capital advisor pushq live next hour brief background currently board us base private equity invest top global unicorn businesses two decades experience strategy finance operations multiply valuation company years profitable business model answer question refine thoughts share wisdom build unicorn business let us begin see\n",
      "______________________________________________________________________\n",
      "quot quot quot quot crda km km km km srm amp viit km km express way km crda km km km km srm viit km km express way km see\n",
      "______________________________________________________________________\n",
      "track brand reputation manage social media channel grow lead customers remote post schedule much top social network platforms wi th house social media tool brand sov know http bite ly cai connect us free consultation market vivoki com dataintelligence researchsolutions datasolutions competitiveintelligence artificialintelligencesolutions artificialintelligence businessnews bigdata blockchain marketresearch innovation futureofdigital ai techtrends iot blockchain vivokibusinessintelligence dataanalytics see track brand reputation manage social media channel grow lead customers remote post schedule much top social network platforms wi th house social media tool brand sov know http bite ly cai connect us free consultation market vivoki com dataintelligence researchsolutions datasolutions competitiveintelligence artificialintelligencesolutions artificialintelligence businessnews bigdata blockchain marketresearch innovation futureofdigital ai techtrends iot blockchain vivokibusinessintelligence dataanalytics see\n",
      "______________________________________________________________________\n",
      "ugly need css\n",
      "______________________________________________________________________\n",
      "save planet say plastic bag use paper bag newspaper bag go green greenhandle ecofriendly paperbags newspaperbags\n"
     ]
    }
   ],
   "source": [
    "#consider sample of 4 random messages for cluster 4\n",
    "print(df_train.iloc[df_train.groupby(['Label']).groups[3][8]]['Message'])\n",
    "print(\"_\" * 70)\n",
    "print(df_train.iloc[df_train.groupby(['Label']).groups[3][11]]['Message'])\n",
    "print(\"_\" * 70)\n",
    "print(df_train.iloc[df_train.groupby(['Label']).groups[3][30]]['Message'])\n",
    "print(\"_\" * 70)\n",
    "print(df_train.iloc[df_train.groupby(['Label']).groups[3][35]]['Message'])\n",
    "print(\"_\" * 70)\n",
    "print(df_train.iloc[df_train.groupby(['Label']).groups[3][45]]['Message'])"
   ]
  },
  {
   "cell_type": "raw",
   "id": "293df5ee",
   "metadata": {},
   "source": [
    "*******************************************************************************************************************************"
   ]
  },
  {
   "cell_type": "raw",
   "id": "2629abc5",
   "metadata": {},
   "source": [
    "If we observe the top terms per cluster, The cluster 1 which consists of Good as top centroid feature and can say this cluster consists of neutral(general conversation) messages more in no, \n",
    "By reading the cluster 2 and cluster 3's top terms like earn,make money and sample messages seems to be more on seller side whereas cluster 2's messages like call indicates buyer side."
   ]
  },
  {
   "cell_type": "code",
   "execution_count": 71,
   "id": "24cb60fe",
   "metadata": {},
   "outputs": [],
   "source": [
    "df_train['ProfileName'] = df_train['ProfileName'].fillna(df_train['ProfileName'].mode()[0])"
   ]
  },
  {
   "cell_type": "code",
   "execution_count": 72,
   "id": "69ccbda1",
   "metadata": {},
   "outputs": [],
   "source": [
    "le=LabelEncoder()\n",
    "df_train['ProfileName']=le.fit_transform(df_train['ProfileName'])"
   ]
  },
  {
   "cell_type": "code",
   "execution_count": 73,
   "id": "8fee6373",
   "metadata": {},
   "outputs": [
    {
     "data": {
      "text/plain": [
       "TfidfVectorizer(sublinear_tf=True)"
      ]
     },
     "execution_count": 73,
     "metadata": {},
     "output_type": "execute_result"
    }
   ],
   "source": [
    "from sklearn.feature_extraction.text import TfidfVectorizer\n",
    "\n",
    "tf_vector = TfidfVectorizer(sublinear_tf=True)\n",
    "tf_vector.fit(df_train['Message'])"
   ]
  },
  {
   "cell_type": "code",
   "execution_count": 74,
   "id": "701f54b3",
   "metadata": {},
   "outputs": [],
   "source": [
    "x = tf_vector.transform(df_train['Message'].ravel())\n",
    "y = np.array(df_train['Label'].ravel())"
   ]
  },
  {
   "cell_type": "code",
   "execution_count": 75,
   "id": "d493e83a",
   "metadata": {},
   "outputs": [],
   "source": [
    "from sklearn.model_selection import train_test_split\n",
    "x_train, x_test, y_train, y_test = train_test_split(x, y, test_size=0.20, shuffle=True)"
   ]
  },
  {
   "cell_type": "code",
   "execution_count": 76,
   "id": "6deb53b3",
   "metadata": {},
   "outputs": [
    {
     "name": "stdout",
     "output_type": "stream",
     "text": [
      "(80000, 150918) (20000,)\n"
     ]
    }
   ],
   "source": [
    "print(x_train.shape, y_test.shape)"
   ]
  },
  {
   "cell_type": "code",
   "execution_count": 78,
   "id": "bf6c2628",
   "metadata": {},
   "outputs": [],
   "source": [
    "from sklearn.metrics import accuracy_score,confusion_matrix,classification_report\n",
    "from sklearn.tree import DecisionTreeClassifier\n",
    "from imblearn.over_sampling import SMOTE\n",
    "from collections import Counter"
   ]
  },
  {
   "cell_type": "code",
   "execution_count": null,
   "id": "65192e29",
   "metadata": {},
   "outputs": [],
   "source": [
    "#oversample = SMOTE()\n",
    "#x_train,y_train = oversample.fit_resample(x_train,y_train)\n",
    "#counter = Counter(y_train)\n",
    "#for k,v in counter.items():\n",
    "    #per = v / len(y_train) * 100\n",
    "    #print('Class=%d, n=%d (%.3f%%)' % (k, v, per))\n",
    "    #plot the distribution\n",
    "#plt.bar(counter.keys(), counter.values())\n",
    "#plt.show()"
   ]
  },
  {
   "cell_type": "code",
   "execution_count": 115,
   "id": "5232b01f",
   "metadata": {},
   "outputs": [
    {
     "name": "stdout",
     "output_type": "stream",
     "text": [
      "Accuracy of DecisionTreeClassifier() is 93.26\n",
      "[[14341   442]\n",
      " [  301  2504]]\n",
      "              precision    recall  f1-score   support\n",
      "\n",
      "           0       0.97      0.95      0.96     15088\n",
      "           1       0.83      0.86      0.85      2896\n",
      "           2       0.80      0.88      0.84      1808\n",
      "           3       1.00      0.99      1.00       208\n",
      "\n",
      "    accuracy                           0.93     20000\n",
      "   macro avg       0.90      0.92      0.91     20000\n",
      "weighted avg       0.93      0.93      0.93     20000\n",
      "\n"
     ]
    }
   ],
   "source": [
    "DTC=DecisionTreeClassifier()\n",
    "DTC.fit(x_train,y_train)\n",
    "y_pred=DTC.predict(x_test)\n",
    "score=accuracy_score(y_test,y_pred)\n",
    "print('Accuracy of {} is {}'. format(DTC,round(score*100,2)))\n",
    "print(confusion_matrix(y_test,y_pred, labels=[0,1]))\n",
    "print(classification_report(y_test,y_pred))"
   ]
  },
  {
   "cell_type": "code",
   "execution_count": 117,
   "id": "d72d25aa",
   "metadata": {},
   "outputs": [
    {
     "name": "stdout",
     "output_type": "stream",
     "text": [
      "cross_val_score of DecisionTreeClassifier() is :\n",
      "Accuracy: 93.937% (0.098%)\n"
     ]
    }
   ],
   "source": [
    "from sklearn import model_selection\n",
    "seed=7\n",
    "kfold = model_selection.KFold(n_splits=5, random_state=seed,shuffle=True)\n",
    "results = model_selection.cross_val_score(DTC, x, y, cv=kfold)\n",
    "print('cross_val_score of',DTC,'is :')\n",
    "print(\"Accuracy: %.3f%% (%.3f%%)\" % (results.mean()*100.0, results.std()*100.0))"
   ]
  },
  {
   "cell_type": "code",
   "execution_count": 174,
   "id": "7f89eed3",
   "metadata": {},
   "outputs": [
    {
     "name": "stdout",
     "output_type": "stream",
     "text": [
      "Tuned Decision Tree Parameters: {'criterion': 'entropy', 'max_depth': None, 'max_features': 5, 'min_samples_leaf': 1}\n",
      "Best score is 0.8412200000000001\n"
     ]
    }
   ],
   "source": [
    "from sklearn.model_selection import RandomizedSearchCV\n",
    "from scipy.stats import randint\n",
    "param_dist = {\"max_depth\": [3, None],\n",
    "              \"max_features\": randint(1, 9),\n",
    "              \"min_samples_leaf\": randint(1, 9),\n",
    "              \"criterion\": [\"gini\", \"entropy\"]}\n",
    "tree_cv = RandomizedSearchCV(DTC, param_dist, cv=5)\n",
    "tree_cv.fit(x,y)\n",
    "print(\"Tuned Decision Tree Parameters: {}\".format(tree_cv.best_params_))\n",
    "print(\"Best score is {}\".format(tree_cv.best_score_))"
   ]
  },
  {
   "cell_type": "code",
   "execution_count": 176,
   "id": "a4f1e749",
   "metadata": {},
   "outputs": [
    {
     "name": "stdout",
     "output_type": "stream",
     "text": [
      "Accuracy of DecisionTreeClassifier(criterion='entropy', max_features=5) is 84.56\n",
      "[[13878   854]\n",
      " [  992  1655]]\n",
      "              precision    recall  f1-score   support\n",
      "\n",
      "           0       0.90      0.91      0.91     15186\n",
      "           1       0.62      0.59      0.61      2796\n",
      "           2       0.66      0.65      0.66      1814\n",
      "           3       0.97      0.94      0.96       204\n",
      "\n",
      "    accuracy                           0.85     20000\n",
      "   macro avg       0.79      0.78      0.78     20000\n",
      "weighted avg       0.84      0.85      0.84     20000\n",
      "\n"
     ]
    }
   ],
   "source": [
    "DTC=DecisionTreeClassifier(criterion= 'entropy', max_depth= None, max_features= 5, min_samples_leaf= 1)\n",
    "DTC.fit(x_train,y_train)\n",
    "y_pred=DTC.predict(x_test)\n",
    "score=accuracy_score(y_test,y_pred)\n",
    "print('Accuracy of {} is {}'. format(DTC,round(score*100,2)))\n",
    "print(confusion_matrix(y_test,y_pred, labels=[0,1]))\n",
    "print(classification_report(y_test,y_pred))"
   ]
  },
  {
   "cell_type": "code",
   "execution_count": 177,
   "id": "66ed7e7b",
   "metadata": {},
   "outputs": [
    {
     "data": {
      "text/plain": [
       "['DTCmodel.pkl']"
      ]
     },
     "execution_count": 177,
     "metadata": {},
     "output_type": "execute_result"
    }
   ],
   "source": [
    "#saving model for prediction\n",
    "import joblib\n",
    "joblib.dump(DTC,'DTCmodel.pkl')"
   ]
  },
  {
   "cell_type": "code",
   "execution_count": 178,
   "id": "5ca769a3",
   "metadata": {},
   "outputs": [],
   "source": [
    "#importing predicted result from text file \n",
    "pred3=pd.read_csv('Preddtc.csv',encoding = \"ISO-8859-1\")"
   ]
  },
  {
   "cell_type": "code",
   "execution_count": 179,
   "id": "ca8def2c",
   "metadata": {},
   "outputs": [],
   "source": [
    "pred3.drop(columns=['Unnamed: 0'],axis=1,inplace=True)"
   ]
  },
  {
   "cell_type": "code",
   "execution_count": 180,
   "id": "ae89c5ee",
   "metadata": {},
   "outputs": [],
   "source": [
    "pred3 = np.array(pred3)"
   ]
  },
  {
   "cell_type": "code",
   "execution_count": 181,
   "id": "66f093d3",
   "metadata": {},
   "outputs": [
    {
     "name": "stdout",
     "output_type": "stream",
     "text": [
      "(95408, 1) (100000,)\n"
     ]
    }
   ],
   "source": [
    "print(pred3.shape,y.shape)"
   ]
  },
  {
   "cell_type": "code",
   "execution_count": 182,
   "id": "7cd1dcb1",
   "metadata": {},
   "outputs": [],
   "source": [
    "y=pd.DataFrame(y.reshape(-1,1))"
   ]
  },
  {
   "cell_type": "code",
   "execution_count": 185,
   "id": "5205aefc",
   "metadata": {},
   "outputs": [
    {
     "name": "stdout",
     "output_type": "stream",
     "text": [
      "Accuracy of DecisionTreeClassifier(criterion='entropy', max_features=5) is 72.9\n"
     ]
    }
   ],
   "source": [
    "score=accuracy_score(y[:95408],pred3)\n",
    "print('Accuracy of {} is {}'. format(DTC,round(score*100,2)))"
   ]
  }
 ],
 "metadata": {
  "kernelspec": {
   "display_name": "Python 3",
   "language": "python",
   "name": "python3"
  },
  "language_info": {
   "codemirror_mode": {
    "name": "ipython",
    "version": 3
   },
   "file_extension": ".py",
   "mimetype": "text/x-python",
   "name": "python",
   "nbconvert_exporter": "python",
   "pygments_lexer": "ipython3",
   "version": "3.8.8"
  }
 },
 "nbformat": 4,
 "nbformat_minor": 5
}
