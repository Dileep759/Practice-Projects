{
 "cells": [
  {
   "cell_type": "code",
   "execution_count": 1,
   "id": "6a0c0c06",
   "metadata": {},
   "outputs": [],
   "source": [
    "import os\n",
    "import numpy as np\n",
    "import pandas as pd\n",
    "import matplotlib.pyplot as plt\n",
    "import keras\n",
    "import tensorflow\n",
    "from keras.preprocessing.image import ImageDataGenerator\n",
    "from tensorflow.keras.utils import to_categorical\n",
    "from keras.layers import Conv2D, Dense, Flatten, MaxPool2D, Dropout"
   ]
  },
  {
   "cell_type": "code",
   "execution_count": 2,
   "id": "cee8aa1f",
   "metadata": {},
   "outputs": [],
   "source": [
    "train_path = \"E:/Intel Data/seg_train\"\n",
    "validation_path =  \"E:/Intel Data/seg_test\""
   ]
  },
  {
   "cell_type": "code",
   "execution_count": 3,
   "id": "79903065",
   "metadata": {},
   "outputs": [
    {
     "name": "stdout",
     "output_type": "stream",
     "text": [
      "Found 6977 images belonging to 3 classes.\n"
     ]
    }
   ],
   "source": [
    "training_datagen=ImageDataGenerator(rescale=1./255,\n",
    "                                    rotation_range=40,\n",
    "                                    width_shift_range=0.2,\n",
    "                                    height_shift_range=0.2,\n",
    "                                    shear_range=0.2,\n",
    "                                    zoom_range=0.2,\n",
    "                                    horizontal_flip=True,\n",
    "                                    fill_mode='nearest')\n",
    "\n",
    "training_data=training_datagen.flow_from_directory(train_path,\n",
    "                                                   target_size=(150,150),\n",
    "                                                   batch_size=32)                                                 "
   ]
  },
  {
   "cell_type": "code",
   "execution_count": 4,
   "id": "6258c45d",
   "metadata": {},
   "outputs": [
    {
     "data": {
      "text/plain": [
       "{'buildings': 0, 'mountain': 1, 'sea': 2}"
      ]
     },
     "execution_count": 4,
     "metadata": {},
     "output_type": "execute_result"
    }
   ],
   "source": [
    "training_data.class_indices"
   ]
  },
  {
   "cell_type": "code",
   "execution_count": 5,
   "id": "47676fd6",
   "metadata": {},
   "outputs": [
    {
     "name": "stdout",
     "output_type": "stream",
     "text": [
      "Found 1472 images belonging to 3 classes.\n"
     ]
    }
   ],
   "source": [
    "valid_datagen=ImageDataGenerator(rescale=1./255)\n",
    "\n",
    "validation_data=valid_datagen.flow_from_directory(validation_path,\n",
    "                                                   target_size=(150,150),\n",
    "                                                   batch_size=32)"
   ]
  },
  {
   "cell_type": "code",
   "execution_count": 6,
   "id": "5272265c",
   "metadata": {},
   "outputs": [
    {
     "data": {
      "text/plain": [
       "{'buildings': 0, 'mountain': 1, 'sea': 2}"
      ]
     },
     "execution_count": 6,
     "metadata": {},
     "output_type": "execute_result"
    }
   ],
   "source": [
    "validation_data.class_indices"
   ]
  },
  {
   "cell_type": "code",
   "execution_count": 8,
   "id": "e087f6ac",
   "metadata": {},
   "outputs": [
    {
     "name": "stdout",
     "output_type": "stream",
     "text": [
      "(32, 150, 150, 3)\n",
      "(32, 3)\n"
     ]
    }
   ],
   "source": [
    "for image_batch, labels_batch in training_data:\n",
    "    print(image_batch.shape)\n",
    "    print(labels_batch.shape)\n",
    "    break"
   ]
  },
  {
   "cell_type": "code",
   "execution_count": 9,
   "id": "062834b5",
   "metadata": {},
   "outputs": [],
   "source": [
    "from tensorflow.keras.models import Sequential\n",
    "model = Sequential()\n",
    "model.add(Conv2D(filters=32, kernel_size=(3,3), activation=\"relu\", input_shape=[150,150,3]))\n",
    "model.add(MaxPool2D(pool_size=(2,2)))\n",
    "model.add(Conv2D(filters=64, kernel_size=(3,3), activation=\"relu\"))\n",
    "model.add(MaxPool2D(pool_size=(2,2)))\n",
    "model.add(Flatten())\n",
    "model.add(Dense(100, activation=\"relu\"))\n",
    "model.add(Dense(3, activation=\"softmax\"))"
   ]
  },
  {
   "cell_type": "code",
   "execution_count": 10,
   "id": "9fe29adb",
   "metadata": {},
   "outputs": [],
   "source": [
    "#lr_schedule=tensorflow.keras.optimizers.schedules.ExponentialDecay(\n",
    "#    initial_learning_rate=1.0,\n",
    "#    decay_steps=1000,\n",
    "#    decay_rate=0.1)"
   ]
  },
  {
   "cell_type": "code",
   "execution_count": 11,
   "id": "d8a5f1ff",
   "metadata": {},
   "outputs": [],
   "source": [
    "model.compile(loss=\"categorical_crossentropy\", optimizer=\"adam\", metrics=[\"accuracy\"])"
   ]
  },
  {
   "cell_type": "code",
   "execution_count": 12,
   "id": "8ba8673c",
   "metadata": {},
   "outputs": [],
   "source": [
    "from keras.backend import clear_session\n",
    "clear_session()"
   ]
  },
  {
   "cell_type": "code",
   "execution_count": 13,
   "id": "4a79faf3",
   "metadata": {},
   "outputs": [],
   "source": [
    "from keras.callbacks import EarlyStopping\n",
    "earlystop = EarlyStopping(monitor = 'val_loss',min_delta = 0,patience = 3, verbose = 1,restore_best_weights = True)"
   ]
  },
  {
   "cell_type": "code",
   "execution_count": 14,
   "id": "d4f10713",
   "metadata": {},
   "outputs": [
    {
     "name": "stdout",
     "output_type": "stream",
     "text": [
      "Model: \"sequential\"\n",
      "_________________________________________________________________\n",
      "Layer (type)                 Output Shape              Param #   \n",
      "=================================================================\n",
      "conv2d (Conv2D)              (None, 148, 148, 32)      896       \n",
      "_________________________________________________________________\n",
      "max_pooling2d (MaxPooling2D) (None, 74, 74, 32)        0         \n",
      "_________________________________________________________________\n",
      "conv2d_1 (Conv2D)            (None, 72, 72, 64)        18496     \n",
      "_________________________________________________________________\n",
      "max_pooling2d_1 (MaxPooling2 (None, 36, 36, 64)        0         \n",
      "_________________________________________________________________\n",
      "flatten (Flatten)            (None, 82944)             0         \n",
      "_________________________________________________________________\n",
      "dense (Dense)                (None, 100)               8294500   \n",
      "_________________________________________________________________\n",
      "dense_1 (Dense)              (None, 3)                 303       \n",
      "=================================================================\n",
      "Total params: 8,314,195\n",
      "Trainable params: 8,314,195\n",
      "Non-trainable params: 0\n",
      "_________________________________________________________________\n"
     ]
    }
   ],
   "source": [
    "model.summary()"
   ]
  },
  {
   "cell_type": "code",
   "execution_count": 15,
   "id": "196e9d46",
   "metadata": {},
   "outputs": [
    {
     "name": "stdout",
     "output_type": "stream",
     "text": [
      "Epoch 1/20\n",
      "219/219 [==============================] - 312s 1s/step - loss: 1.0112 - accuracy: 0.5445 - val_loss: 0.7770 - val_accuracy: 0.6243\n",
      "Epoch 2/20\n",
      "219/219 [==============================] - 245s 1s/step - loss: 0.7220 - accuracy: 0.6808 - val_loss: 0.5543 - val_accuracy: 0.7731\n",
      "Epoch 3/20\n",
      "219/219 [==============================] - 298s 1s/step - loss: 0.6329 - accuracy: 0.7356 - val_loss: 0.5338 - val_accuracy: 0.7785\n",
      "Epoch 4/20\n",
      "219/219 [==============================] - 287s 1s/step - loss: 0.6053 - accuracy: 0.7470 - val_loss: 0.5914 - val_accuracy: 0.7615\n",
      "Epoch 5/20\n",
      "219/219 [==============================] - 277s 1s/step - loss: 0.5710 - accuracy: 0.7586 - val_loss: 0.4490 - val_accuracy: 0.8207\n",
      "Epoch 6/20\n",
      "219/219 [==============================] - 240s 1s/step - loss: 0.5394 - accuracy: 0.7810 - val_loss: 0.5705 - val_accuracy: 0.7819\n",
      "Epoch 7/20\n",
      "219/219 [==============================] - 251s 1s/step - loss: 0.5121 - accuracy: 0.7909 - val_loss: 0.4761 - val_accuracy: 0.8166\n",
      "Epoch 8/20\n",
      "219/219 [==============================] - 246s 1s/step - loss: 0.4915 - accuracy: 0.7989 - val_loss: 0.4028 - val_accuracy: 0.8465\n",
      "Epoch 9/20\n",
      "219/219 [==============================] - 257s 1s/step - loss: 0.4733 - accuracy: 0.8054 - val_loss: 0.4085 - val_accuracy: 0.8458\n",
      "Epoch 10/20\n",
      "219/219 [==============================] - 266s 1s/step - loss: 0.4536 - accuracy: 0.8154 - val_loss: 0.4360 - val_accuracy: 0.8302\n",
      "Epoch 11/20\n",
      "219/219 [==============================] - 263s 1s/step - loss: 0.4483 - accuracy: 0.8208 - val_loss: 0.3840 - val_accuracy: 0.8580\n",
      "Epoch 12/20\n",
      "219/219 [==============================] - 303s 1s/step - loss: 0.4168 - accuracy: 0.8380 - val_loss: 0.3746 - val_accuracy: 0.8662\n",
      "Epoch 13/20\n",
      "219/219 [==============================] - 245s 1s/step - loss: 0.4099 - accuracy: 0.8319 - val_loss: 0.4380 - val_accuracy: 0.8404\n",
      "Epoch 14/20\n",
      "219/219 [==============================] - 262s 1s/step - loss: 0.4148 - accuracy: 0.8352 - val_loss: 0.4504 - val_accuracy: 0.8349\n",
      "Epoch 15/20\n",
      "219/219 [==============================] - 255s 1s/step - loss: 0.3885 - accuracy: 0.8509 - val_loss: 0.3346 - val_accuracy: 0.8743\n",
      "Epoch 16/20\n",
      "219/219 [==============================] - 257s 1s/step - loss: 0.3829 - accuracy: 0.8502 - val_loss: 0.5523 - val_accuracy: 0.7731\n",
      "Epoch 17/20\n",
      "219/219 [==============================] - 250s 1s/step - loss: 0.4108 - accuracy: 0.8405 - val_loss: 0.3458 - val_accuracy: 0.8764\n",
      "Epoch 18/20\n",
      "219/219 [==============================] - 261s 1s/step - loss: 0.3592 - accuracy: 0.8591 - val_loss: 0.3935 - val_accuracy: 0.8410\n",
      "Restoring model weights from the end of the best epoch.\n",
      "Epoch 00018: early stopping\n"
     ]
    }
   ],
   "source": [
    "history = model.fit(training_data, epochs=20,verbose=1, validation_data=validation_data,callbacks=earlystop)"
   ]
  },
  {
   "cell_type": "code",
   "execution_count": 16,
   "id": "20acea66",
   "metadata": {},
   "outputs": [],
   "source": [
    "from keras.applications.vgg16 import VGG16\n",
    "vgg_model = VGG16(input_shape=[150,150,3], weights='imagenet', include_top=False)"
   ]
  },
  {
   "cell_type": "code",
   "execution_count": 17,
   "id": "7230a933",
   "metadata": {},
   "outputs": [],
   "source": [
    "for layer in vgg_model.layers: \n",
    "    layer.trainable = False"
   ]
  },
  {
   "cell_type": "code",
   "execution_count": 18,
   "id": "44d23034",
   "metadata": {},
   "outputs": [],
   "source": [
    "from keras.layers import Flatten,Dense\n",
    "x = Flatten()(vgg_model.output)\n",
    "prediction = Dense(3, activation='softmax')(x)"
   ]
  },
  {
   "cell_type": "code",
   "execution_count": 19,
   "id": "ac7d67a7",
   "metadata": {},
   "outputs": [],
   "source": [
    "from keras.models import Model\n",
    "model = Model(vgg_model.input, prediction)"
   ]
  },
  {
   "cell_type": "code",
   "execution_count": 20,
   "id": "1a04e370",
   "metadata": {},
   "outputs": [
    {
     "name": "stdout",
     "output_type": "stream",
     "text": [
      "Model: \"model\"\n",
      "_________________________________________________________________\n",
      "Layer (type)                 Output Shape              Param #   \n",
      "=================================================================\n",
      "input_1 (InputLayer)         [(None, 150, 150, 3)]     0         \n",
      "_________________________________________________________________\n",
      "block1_conv1 (Conv2D)        (None, 150, 150, 64)      1792      \n",
      "_________________________________________________________________\n",
      "block1_conv2 (Conv2D)        (None, 150, 150, 64)      36928     \n",
      "_________________________________________________________________\n",
      "block1_pool (MaxPooling2D)   (None, 75, 75, 64)        0         \n",
      "_________________________________________________________________\n",
      "block2_conv1 (Conv2D)        (None, 75, 75, 128)       73856     \n",
      "_________________________________________________________________\n",
      "block2_conv2 (Conv2D)        (None, 75, 75, 128)       147584    \n",
      "_________________________________________________________________\n",
      "block2_pool (MaxPooling2D)   (None, 37, 37, 128)       0         \n",
      "_________________________________________________________________\n",
      "block3_conv1 (Conv2D)        (None, 37, 37, 256)       295168    \n",
      "_________________________________________________________________\n",
      "block3_conv2 (Conv2D)        (None, 37, 37, 256)       590080    \n",
      "_________________________________________________________________\n",
      "block3_conv3 (Conv2D)        (None, 37, 37, 256)       590080    \n",
      "_________________________________________________________________\n",
      "block3_pool (MaxPooling2D)   (None, 18, 18, 256)       0         \n",
      "_________________________________________________________________\n",
      "block4_conv1 (Conv2D)        (None, 18, 18, 512)       1180160   \n",
      "_________________________________________________________________\n",
      "block4_conv2 (Conv2D)        (None, 18, 18, 512)       2359808   \n",
      "_________________________________________________________________\n",
      "block4_conv3 (Conv2D)        (None, 18, 18, 512)       2359808   \n",
      "_________________________________________________________________\n",
      "block4_pool (MaxPooling2D)   (None, 9, 9, 512)         0         \n",
      "_________________________________________________________________\n",
      "block5_conv1 (Conv2D)        (None, 9, 9, 512)         2359808   \n",
      "_________________________________________________________________\n",
      "block5_conv2 (Conv2D)        (None, 9, 9, 512)         2359808   \n",
      "_________________________________________________________________\n",
      "block5_conv3 (Conv2D)        (None, 9, 9, 512)         2359808   \n",
      "_________________________________________________________________\n",
      "block5_pool (MaxPooling2D)   (None, 4, 4, 512)         0         \n",
      "_________________________________________________________________\n",
      "flatten (Flatten)            (None, 8192)              0         \n",
      "_________________________________________________________________\n",
      "dense (Dense)                (None, 3)                 24579     \n",
      "=================================================================\n",
      "Total params: 14,739,267\n",
      "Trainable params: 24,579\n",
      "Non-trainable params: 14,714,688\n",
      "_________________________________________________________________\n"
     ]
    }
   ],
   "source": [
    "model.summary()"
   ]
  },
  {
   "cell_type": "code",
   "execution_count": 21,
   "id": "baa72f91",
   "metadata": {},
   "outputs": [],
   "source": [
    "model.compile(\n",
    "  loss='categorical_crossentropy',\n",
    "  optimizer='adam',\n",
    "  metrics=['accuracy']\n",
    ")"
   ]
  },
  {
   "cell_type": "code",
   "execution_count": 22,
   "id": "1a7e32eb",
   "metadata": {},
   "outputs": [],
   "source": [
    "from keras.backend import clear_session\n",
    "clear_session()"
   ]
  },
  {
   "cell_type": "code",
   "execution_count": 23,
   "id": "1f206077",
   "metadata": {},
   "outputs": [
    {
     "name": "stdout",
     "output_type": "stream",
     "text": [
      "Epoch 1/10\n",
      "219/219 [==============================] - 1359s 6s/step - loss: 0.3350 - accuracy: 0.8686 - val_loss: 0.2562 - val_accuracy: 0.8899\n",
      "Epoch 2/10\n",
      "219/219 [==============================] - 1421s 6s/step - loss: 0.2763 - accuracy: 0.8912 - val_loss: 0.2055 - val_accuracy: 0.9253\n",
      "Epoch 3/10\n",
      "219/219 [==============================] - 1427s 7s/step - loss: 0.2456 - accuracy: 0.9023 - val_loss: 0.1815 - val_accuracy: 0.9375\n",
      "Epoch 4/10\n",
      "219/219 [==============================] - 1410s 6s/step - loss: 0.2288 - accuracy: 0.9086 - val_loss: 0.2137 - val_accuracy: 0.9130\n",
      "Epoch 5/10\n",
      "219/219 [==============================] - 1318s 6s/step - loss: 0.2160 - accuracy: 0.9182 - val_loss: 0.1914 - val_accuracy: 0.9321\n",
      "Epoch 6/10\n",
      "219/219 [==============================] - 1282s 6s/step - loss: 0.2161 - accuracy: 0.9149 - val_loss: 0.2125 - val_accuracy: 0.9246\n",
      "Restoring model weights from the end of the best epoch.\n",
      "Epoch 00006: early stopping\n"
     ]
    }
   ],
   "source": [
    "history = model.fit(training_data, epochs=10,verbose=1, validation_data=validation_data,callbacks=earlystop)"
   ]
  },
  {
   "cell_type": "code",
   "execution_count": null,
   "id": "adaa880d",
   "metadata": {},
   "outputs": [],
   "source": [
    "#train_loss, train_acc=model.evaluate(training_data)\n",
    "#print(\"Train Loss: {0} - Train Acc: {1}\".format(train_loss,train_acc))"
   ]
  },
  {
   "cell_type": "code",
   "execution_count": null,
   "id": "a13131c4",
   "metadata": {},
   "outputs": [],
   "source": [
    "#test_loss, test_acc=model.evaluate(validation_data)\n",
    "#print(\"Test Loss: {0} - Test Acc: {1}\".format(test_loss,test_acc))"
   ]
  },
  {
   "cell_type": "code",
   "execution_count": 24,
   "id": "cbceaae8",
   "metadata": {},
   "outputs": [],
   "source": [
    "prediction_path =  \"E:/Intel Data/seg_pred2\""
   ]
  },
  {
   "cell_type": "code",
   "execution_count": 25,
   "id": "0a5ef53d",
   "metadata": {},
   "outputs": [
    {
     "name": "stdout",
     "output_type": "stream",
     "text": [
      "Found 2092 images belonging to 3 classes.\n"
     ]
    }
   ],
   "source": [
    "prediction_data=valid_datagen.flow_from_directory(prediction_path,\n",
    "                                                   target_size=(150,150),\n",
    "                                                   batch_size=32)"
   ]
  },
  {
   "cell_type": "code",
   "execution_count": 26,
   "id": "9b56646f",
   "metadata": {},
   "outputs": [],
   "source": [
    "from PIL import ImageFile\n",
    "ImageFile.LOAD_TRUNCATED_IMAGES = True"
   ]
  },
  {
   "cell_type": "code",
   "execution_count": 27,
   "id": "cf980603",
   "metadata": {},
   "outputs": [
    {
     "name": "stdout",
     "output_type": "stream",
     "text": [
      "[INFO] evaluating network...\n"
     ]
    }
   ],
   "source": [
    "print(\"[INFO] evaluating network...\")\n",
    "prediction_data.reset()\n",
    "predIdxs = model.predict(x=prediction_data, steps=(2092 // 32) + 1)"
   ]
  },
  {
   "cell_type": "code",
   "execution_count": 28,
   "id": "f969a1e8",
   "metadata": {
    "scrolled": true
   },
   "outputs": [
    {
     "data": {
      "text/plain": [
       "(2092, 3)"
      ]
     },
     "execution_count": 28,
     "metadata": {},
     "output_type": "execute_result"
    }
   ],
   "source": [
    "predIdxs.shape"
   ]
  },
  {
   "cell_type": "code",
   "execution_count": 29,
   "id": "2a69f6da",
   "metadata": {},
   "outputs": [],
   "source": [
    "predIdxs = np.argmax(predIdxs, axis=1)"
   ]
  },
  {
   "cell_type": "code",
   "execution_count": 30,
   "id": "521c9807",
   "metadata": {},
   "outputs": [
    {
     "name": "stdout",
     "output_type": "stream",
     "text": [
      "              precision    recall  f1-score   support\n",
      "\n",
      "   buildings       0.30      0.28      0.29       601\n",
      "    mountain       0.45      0.41      0.43       930\n",
      "         sea       0.31      0.36      0.33       561\n",
      "\n",
      "    accuracy                           0.36      2092\n",
      "   macro avg       0.35      0.35      0.35      2092\n",
      "weighted avg       0.37      0.36      0.36      2092\n",
      "\n"
     ]
    }
   ],
   "source": [
    "from sklearn.metrics import classification_report\n",
    "print(classification_report(prediction_data.classes, predIdxs,\n",
    "target_names=prediction_data.class_indices.keys()))"
   ]
  },
  {
   "cell_type": "code",
   "execution_count": 33,
   "id": "74e142c7",
   "metadata": {},
   "outputs": [
    {
     "data": {
      "image/png": "[encoded data removed]",
      "text/plain": [
       "<Figure size 1080x1080 with 2 Axes>"
      ]
     },
     "metadata": {
      "needs_background": "light"
     },
     "output_type": "display_data"
    }
   ],
   "source": [
    "acc = history.history['accuracy']\n",
    "val_acc = history.history['val_accuracy']\n",
    "loss = history.history['loss']\n",
    "val_loss = history.history['val_loss']\n",
    "epochs_range = range(6)\n",
    "\n",
    "plt.figure(figsize=(15, 15))\n",
    "plt.subplot(2, 2, 1)\n",
    "plt.plot(epochs_range, acc, label='Training Accuracy')\n",
    "plt.plot(epochs_range, val_acc, label='Validation Accuracy')\n",
    "plt.legend(loc='lower right')\n",
    "plt.title('Training and Validation Accuracy')\n",
    "\n",
    "plt.subplot(2, 2, 2)\n",
    "plt.plot(epochs_range, loss, label='Training Loss')\n",
    "plt.plot(epochs_range, val_loss, label='Validation Loss')\n",
    "plt.legend(loc='upper right')\n",
    "plt.title('Training and Validation Loss')\n",
    "plt.show()"
   ]
  },
  {
   "cell_type": "code",
   "execution_count": null,
   "id": "c6763ece",
   "metadata": {},
   "outputs": [],
   "source": []
  }
 ],
 "metadata": {
  "kernelspec": {
   "display_name": "Python 3",
   "language": "python",
   "name": "python3"
  },
  "language_info": {
   "codemirror_mode": {
    "name": "ipython",
    "version": 3
   },
   "file_extension": ".py",
   "mimetype": "text/x-python",
   "name": "python",
   "nbconvert_exporter": "python",
   "pygments_lexer": "ipython3",
   "version": "3.8.8"
  }
 },
 "nbformat": 4,
 "nbformat_minor": 5
}
